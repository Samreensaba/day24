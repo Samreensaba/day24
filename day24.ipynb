{
 "cells": [
  {
   "cell_type": "code",
   "execution_count": 2,
   "id": "0b38d944-9d46-4380-99d7-3b33d06ce483",
   "metadata": {},
   "outputs": [
    {
     "name": "stdout",
     "output_type": "stream",
     "text": [
      "Infinity Dice 🎲\n",
      "\n"
     ]
    },
    {
     "name": "stdin",
     "output_type": "stream",
     "text": [
      "How many sides?  800\n"
     ]
    },
    {
     "name": "stdout",
     "output_type": "stream",
     "text": [
      "You rolled 673\n",
      "\n"
     ]
    },
    {
     "name": "stdin",
     "output_type": "stream",
     "text": [
      "Roll again?  yes\n"
     ]
    },
    {
     "name": "stdout",
     "output_type": "stream",
     "text": [
      "You rolled 697\n",
      "\n"
     ]
    },
    {
     "name": "stdin",
     "output_type": "stream",
     "text": [
      "Roll again?  yes\n"
     ]
    },
    {
     "name": "stdout",
     "output_type": "stream",
     "text": [
      "You rolled 717\n",
      "\n"
     ]
    },
    {
     "name": "stdin",
     "output_type": "stream",
     "text": [
      "Roll again?  yes\n"
     ]
    },
    {
     "name": "stdout",
     "output_type": "stream",
     "text": [
      "You rolled 388\n",
      "\n"
     ]
    },
    {
     "name": "stdin",
     "output_type": "stream",
     "text": [
      "Roll again?  no\n"
     ]
    }
   ],
   "source": [
    "print(\"Infinity Dice 🎲\")\n",
    "print()\n",
    "def rollDice(sides):\n",
    "  import random\n",
    "  while True:\n",
    "    dice = random.randint(1, sides)\n",
    "    print(\"You rolled\", dice)\n",
    "    print()\n",
    "    again = input(\"Roll again? \")\n",
    "    if again == \"yes\":\n",
    "      continue\n",
    "    else:\n",
    "      break\n",
    "\n",
    "sides = int(input(\"How many sides? \"))\n",
    "\n",
    "rollDice(sides)"
   ]
  },
  {
   "cell_type": "code",
   "execution_count": null,
   "id": "db529574-6cb3-4d71-84e2-6a0df6c04a6e",
   "metadata": {},
   "outputs": [],
   "source": []
  }
 ],
 "metadata": {
  "kernelspec": {
   "display_name": "Python 3 (ipykernel)",
   "language": "python",
   "name": "python3"
  },
  "language_info": {
   "codemirror_mode": {
    "name": "ipython",
    "version": 3
   },
   "file_extension": ".py",
   "mimetype": "text/x-python",
   "name": "python",
   "nbconvert_exporter": "python",
   "pygments_lexer": "ipython3",
   "version": "3.12.4"
  }
 },
 "nbformat": 4,
 "nbformat_minor": 5
}
